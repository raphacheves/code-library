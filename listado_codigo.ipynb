{
 "cells": [
  {
   "cell_type": "markdown",
   "id": "fe761601",
   "metadata": {},
   "source": [
    "### Codigo para conectar mi google drive con el notebook"
   ]
  },
  {
   "cell_type": "code",
   "execution_count": null,
   "id": "007d3ad7",
   "metadata": {},
   "outputs": [],
   "source": [
    "from google.colab import drive\n",
    "drive.mount('/content/drive/MyDrive/Colab Notebooks/Nuclio/')"
   ]
  },
  {
   "cell_type": "markdown",
   "id": "8872009a",
   "metadata": {},
   "source": [
    "### Librerias necesarias para el análisis"
   ]
  },
  {
   "cell_type": "code",
   "execution_count": 1,
   "id": "ce0d5526",
   "metadata": {},
   "outputs": [
    {
     "name": "stderr",
     "output_type": "stream",
     "text": [
      "Matplotlib is building the font cache; this may take a moment.\n"
     ]
    }
   ],
   "source": [
    "## import librerias\n",
    "\n",
    "import pandas as pd\n",
    "import numpy as np\n",
    "import matplotlib.pyplot as plt\n",
    "import seaborn as sns\n",
    "from sklearn.preprocessing import LabelEncoder, MinMaxScaler, OrdinalEncoder"
   ]
  },
  {
   "cell_type": "markdown",
   "id": "e9f1c76d",
   "metadata": {},
   "source": [
    "### Primeros pasos Limpieza de Datos"
   ]
  },
  {
   "cell_type": "code",
   "execution_count": null,
   "id": "7fbe8209",
   "metadata": {},
   "outputs": [],
   "source": [
    "## primera vista de los datos\n",
    "df.info()\n",
    "df.describe()\n",
    "df.shape\n",
    "df.head()\n",
    "df.tail()"
   ]
  },
  {
   "cell_type": "markdown",
   "id": "7e9a6650",
   "metadata": {},
   "source": [
    "### ¿Cómo encontrar duplicados?"
   ]
  },
  {
   "cell_type": "code",
   "execution_count": null,
   "id": "ac77c65f",
   "metadata": {},
   "outputs": [],
   "source": [
    "df[df.duplicated(keep=False)]"
   ]
  },
  {
   "cell_type": "markdown",
   "id": "2c3c4936",
   "metadata": {},
   "source": [
    "### Drop duplicados"
   ]
  },
  {
   "cell_type": "code",
   "execution_count": null,
   "id": "a948ac40",
   "metadata": {},
   "outputs": [],
   "source": [
    "df.drop_duplicates(inplace=True)"
   ]
  },
  {
   "cell_type": "markdown",
   "id": "1d0e4a74",
   "metadata": {},
   "source": [
    "### ¿Cómo buscar nulos por cada variable?"
   ]
  },
  {
   "cell_type": "code",
   "execution_count": null,
   "id": "d2d014f3",
   "metadata": {},
   "outputs": [],
   "source": [
    "## este código te regresa resultados de True or False\n",
    "df.isnull().any()\n",
    "\n",
    "## este código te regresa el número total de nulos en cada variable\n",
    "df.isnull().sum()"
   ]
  },
  {
   "cell_type": "markdown",
   "id": "8010df97",
   "metadata": {},
   "source": [
    "### ¿Cuantas veces se repite un mismo valor dentro de una variable?"
   ]
  },
  {
   "cell_type": "code",
   "execution_count": null,
   "id": "c46574b7",
   "metadata": {},
   "outputs": [],
   "source": [
    "df[columna].value_counts()\n",
    "\n",
    "## si tambien quieres que te aparezca los nulos\n",
    "df[columna].value_counts(dropna=False)"
   ]
  },
  {
   "cell_type": "markdown",
   "id": "58510a70",
   "metadata": {},
   "source": [
    "### ¿Cuantos valores nulos hay en una variable?"
   ]
  },
  {
   "cell_type": "code",
   "execution_count": null,
   "id": "298b3e41",
   "metadata": {},
   "outputs": [],
   "source": [
    "df[df[columna].isnull()]"
   ]
  },
  {
   "cell_type": "markdown",
   "id": "73abf87d",
   "metadata": {},
   "source": [
    "### ¿Cómo imputar un valor a los nulos de una variable?"
   ]
  },
  {
   "cell_type": "code",
   "execution_count": null,
   "id": "d06869ed",
   "metadata": {},
   "outputs": [],
   "source": [
    "df[columna].fillna(\"nuevo-valor\",inplace=True)"
   ]
  },
  {
   "cell_type": "markdown",
   "id": "58b8b79c",
   "metadata": {},
   "source": [
    "### ¿Como distinguir los outliers de una variable númerica?"
   ]
  },
  {
   "cell_type": "code",
   "execution_count": null,
   "id": "94c20791",
   "metadata": {},
   "outputs": [],
   "source": [
    "df[columna].hist()"
   ]
  },
  {
   "cell_type": "markdown",
   "id": "3edc35e9",
   "metadata": {},
   "source": [
    "### ¿Cómo ver los distintos valores de las columnas?"
   ]
  },
  {
   "cell_type": "code",
   "execution_count": null,
   "id": "7d35ebba",
   "metadata": {},
   "outputs": [],
   "source": [
    "for column in df.columns:\n",
    "    print(\"\\n\",column,df[column].unique())"
   ]
  },
  {
   "cell_type": "markdown",
   "id": "6eefe195",
   "metadata": {},
   "source": [
    "### ¿Cómo recoger el número de veces que sale el mismo valor en una variable, por columna?"
   ]
  },
  {
   "cell_type": "code",
   "execution_count": null,
   "id": "fccf9fd3",
   "metadata": {},
   "outputs": [],
   "source": [
    "for column in df.columns:\n",
    "    print (\"\\n\",column,df[column].value_counts())"
   ]
  },
  {
   "cell_type": "markdown",
   "id": "f577b584",
   "metadata": {},
   "source": [
    "### ¿Como transformar un valor booleano en 1 y 0?"
   ]
  },
  {
   "cell_type": "code",
   "execution_count": null,
   "id": "bb7746ec",
   "metadata": {},
   "outputs": [],
   "source": [
    "df[\"nueva_columna\"] = df[\"variable_booleana\"].astype(int)\n",
    "\n",
    "## luego de transformar la variable booleana en números se requiere eliminar dicha variable\n",
    "df.drop(columns=[\"variable_booleana\"],inplace=True)"
   ]
  },
  {
   "cell_type": "markdown",
   "id": "5b8ed8c1",
   "metadata": {},
   "source": [
    "### Otra forma de convertir una variable booleana en numerica"
   ]
  },
  {
   "cell_type": "code",
   "execution_count": null,
   "id": "ccf04970",
   "metadata": {},
   "outputs": [],
   "source": [
    "## utilizando la variable loc vamos a crear una nueva columna\n",
    "## [:] selecciona todos los valores\n",
    "df.loc[:,\"nueva_columna_1\"]=0\n",
    "\n",
    "## creamos un index para luego determinar el valor numerico de esa variable (ejemplo \"femenino\")\n",
    "indexes = df[df[\"variable_booleana_1\"]==\"femenino\"].index\n",
    "\n",
    "## indexes ayudará luego a identificar todas las lineas en donde el sexo sea \"femenino\" y así luego asignarle un valor\n",
    "df.loc[indexes,\"nueva_columna_1\"]=1\n",
    "\n",
    "## luego recordar eliminar la variable booleana\n",
    "df.drop(columns=[\"variable_booleana_1\"],inplace=True)"
   ]
  },
  {
   "cell_type": "markdown",
   "id": "d4c86ef0",
   "metadata": {},
   "source": [
    "### ¿Cómo identificar el tipo de variable usando una función y el atribudo de numpy \"dtype.kind\""
   ]
  },
  {
   "cell_type": "code",
   "execution_count": null,
   "id": "893b7d98",
   "metadata": {},
   "outputs": [],
   "source": [
    "for column in df.columns:\n",
    "    print(df[column].dtype.kind)"
   ]
  },
  {
   "cell_type": "markdown",
   "id": "271547e4",
   "metadata": {},
   "source": [
    "### Obtner lista de tipo de variables"
   ]
  },
  {
   "cell_type": "code",
   "execution_count": null,
   "id": "db6c7e29",
   "metadata": {},
   "outputs": [],
   "source": [
    "def obtener_lista_variable(dataset):\n",
    "  lista_numericas = []\n",
    "  lista_booleanas = []\n",
    "  lista_categoricas = []\n",
    "\n",
    "  for column in dataset.columns:\n",
    "\n",
    "    if (dataset[column].dtype.kind == \"i\" or dataset[column].dtype.kind==\"f\") and len(dataset[column].unique())==2 and column not in target:\n",
    "      lista_booleanas.append(column)\n",
    "    elif(dataset[column].dtype.kind == \"i\" or dataset[column].dtype.kind==\"f\") and len(dataset[column].unique())!=2 and column not in target:\n",
    "      lista_numericas.append(column)\n",
    "    elif (dataset[column].dtype.kind == \"O\") and column not in target:\n",
    "      lista_categoricas.append(column)\n",
    "\n",
    "  return lista_numericas,lista_booleanas,lista_categoricas"
   ]
  },
  {
   "cell_type": "code",
   "execution_count": null,
   "id": "3c0d5528",
   "metadata": {},
   "outputs": [],
   "source": [
    "## asignar el dataset a la funcion\n",
    "lista_numericas,lista_booleanas,lista_categoricas = obtener_lista_variable(df)"
   ]
  }
 ],
 "metadata": {
  "kernelspec": {
   "display_name": "base",
   "language": "python",
   "name": "python3"
  },
  "language_info": {
   "codemirror_mode": {
    "name": "ipython",
    "version": 3
   },
   "file_extension": ".py",
   "mimetype": "text/x-python",
   "name": "python",
   "nbconvert_exporter": "python",
   "pygments_lexer": "ipython3",
   "version": "3.12.7"
  }
 },
 "nbformat": 4,
 "nbformat_minor": 5
}
